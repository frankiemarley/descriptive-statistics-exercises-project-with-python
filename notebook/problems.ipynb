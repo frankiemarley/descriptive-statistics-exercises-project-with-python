{
    "cells": [
        {
            "cell_type": "markdown",
            "id": "ac622319",
            "metadata": {},
            "source": [
                "# Descriptive statistics problems"
            ]
        },
        {
            "cell_type": "markdown",
            "id": "5e0ab0d5",
            "metadata": {},
            "source": [
                "### Exercise 1\n",
                "\n",
                "We will use NumPy to obtain information to describe statistically.\n",
                "\n",
                "- Generate an array of 100 elements following a normal distribution.\n",
                "- Generate an array of 100 elements following a chi-square distribution with 3 degrees of freedom.\n",
                "- Calculate the main metrics and statistical measures that best describe the two vectors."
            ]
        },
        {
            "cell_type": "code",
            "execution_count": 11,
            "id": "34720ab6",
            "metadata": {},
            "outputs": [
                {
                    "name": "stdout",
                    "output_type": "stream",
                    "text": [
                        "Normal Distribution Metrics:\n",
                        "mean: 0.09928009380028778\n",
                        "median: 0.12353367679861302\n",
                        "mode: 0.3608336974934164\n",
                        "range: 4.433834408165984\n",
                        "variance: 0.8883620601598488\n",
                        "std_dev: 0.947277897083468\n",
                        "skewness: -0.18286249036113042\n",
                        "kurtosis: -0.22310141269852357\n",
                        "25th_percentile: -0.5138836177324588\n",
                        "75th_percentile: 0.7680455546423508\n",
                        "\n",
                        "Chi-Square Distribution Metrics:\n",
                        "mean: 2.629579399951878\n",
                        "median: 2.2494766758740576\n",
                        "mode: 4.1254971986764435\n",
                        "range: 6.7936101452590805\n",
                        "variance: 3.0829168133037133\n",
                        "std_dev: 1.764669200494945\n",
                        "skewness: 0.7100182174124106\n",
                        "kurtosis: -0.24352685134850383\n",
                        "25th_percentile: 1.26669004885636\n",
                        "75th_percentile: 3.7800454059776403\n"
                    ]
                }
            ],
            "source": [
                "import numpy as np\n",
                "from scipy.stats import skew\n",
                "from scipy.stats import kurtosis\n",
                "import random\n",
                "import statistics as stats\n",
                "\n",
                "arrayx= np.random.normal(loc=0.0, scale=1.0, size=100)\n",
                "\n",
                "skewness = skew(arrayx)\n",
                "\n",
                "# print(\"Array:\", arrayx)\n",
                "# print(\"Skewness:\", skewness)\n",
                "\n",
                "chi = np.random.chisquare(df= 3, size=100)\n",
                "\n",
                "# print(chi)\n",
                "\n",
                "def calculate_metrics(array):\n",
                "    metrics = {\n",
                "        'mean': np.mean(array),\n",
                "        'median': np.median(array),\n",
                "        'mode': stats.mode(array),\n",
                "        'range' : max(array) - min(array),\n",
                "        'variance': np.var(array),\n",
                "        'std_dev': stats.stdev(array),\n",
                "        'skewness': skew(array),\n",
                "        'kurtosis': kurtosis(array),\n",
                "        '25th_percentile': np.percentile(array, 25),\n",
                "        '75th_percentile': np.percentile(array, 75)\n",
                "    }\n",
                "    return metrics\n",
                "\n",
                "normal_metrics = calculate_metrics(arrayx)\n",
                "chisquare_metrics = calculate_metrics(chi)\n",
                "\n",
                "print(\"Normal Distribution Metrics:\")\n",
                "for key, value in normal_metrics.items():\n",
                "    print(f\"{key}: {value}\")\n",
                "\n",
                "print(\"\\nChi-Square Distribution Metrics:\")\n",
                "for key, value in chisquare_metrics.items():\n",
                "    print(f\"{key}: {value}\")"
            ]
        },
        {
            "cell_type": "markdown",
            "id": "46c70c3d",
            "metadata": {},
            "source": [
                "### Exercise 2\n",
                "\n",
                "Write a Python program to calculate the standard deviation of the following data:\n",
                "\n",
                "```py\n",
                "data = [4, 2, 5, 8, 6]\n",
                "```"
            ]
        },
        {
            "cell_type": "code",
            "execution_count": 14,
            "id": "d590308e",
            "metadata": {},
            "outputs": [
                {
                    "data": {
                        "text/plain": [
                            "2.23606797749979"
                        ]
                    },
                    "execution_count": 14,
                    "metadata": {},
                    "output_type": "execute_result"
                }
            ],
            "source": [
                "import statistics as stats\n",
                "\n",
                "data = [4, 2, 5, 8, 6]\n",
                "\n",
                "def standardDev(data):\n",
                "    return stats.stdev(data)\n",
                "\n",
                "standardDev(data)"
            ]
        }
    ],
    "metadata": {
        "interpreter": {
            "hash": "9248718ffe6ce6938b217e69dbcc175ea21f4c6b28a317e96c05334edae734bb"
        },
        "kernelspec": {
            "display_name": "Python 3.9.12 ('ML-BOOTCAMP')",
            "language": "python",
            "name": "python3"
        },
        "language_info": {
            "codemirror_mode": {
                "name": "ipython",
                "version": 3
            },
            "file_extension": ".py",
            "mimetype": "text/x-python",
            "name": "python",
            "nbconvert_exporter": "python",
            "pygments_lexer": "ipython3",
            "version": "3.11.4"
        }
    },
    "nbformat": 4,
    "nbformat_minor": 5
}
